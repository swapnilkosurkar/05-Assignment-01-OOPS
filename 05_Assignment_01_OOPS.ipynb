{
  "nbformat": 4,
  "nbformat_minor": 0,
  "metadata": {
    "colab": {
      "provenance": []
    },
    "kernelspec": {
      "name": "python3",
      "display_name": "Python 3"
    },
    "language_info": {
      "name": "python"
    }
  },
  "cells": [
    {
      "cell_type": "code",
      "execution_count": null,
      "metadata": {
        "id": "OwLTDY5389wE"
      },
      "outputs": [],
      "source": []
    },
    {
      "cell_type": "markdown",
      "source": [
        "#Question 1.What are the five key concepts of Object-Oriented Programming (OOP)?\n",
        "\n",
        "\n",
        "#Answer :\n",
        "\n",
        "The five key concepts of Object-Oriented Programming (OOP) are:\n",
        "\n",
        "\n",
        "**Encapsulation:** This concept involves wrapping both data (attributes) and the functions (methods) that interact with the data into a single unit, typically known as a class. Encapsulation also restricts access to specific details of an object, ensuring that the internal workings are hidden, protecting it from external modification or misuse.\n",
        "\n",
        "**Abstraction:** Abstraction focuses on representing essential features of an object while omitting unnecessary details. This simplifies the design, allowing developers to work with complex systems at a higher level without needing to worry about the underlying intricacies.\n",
        "\n",
        "**Inheritance:**  Inheritance allows one class (called a subclass) to derive properties and behavior from another class (the superclass). This facilitates code reuse and establishes a hierarchical structure between classes, making it easier to extend and maintain the code.\n",
        "\n",
        "**Polymorphism:** Polymorphism enables objects to be treated as instances of their parent class, even when they belong to different derived classes. It can take the form of method overriding, where a subclass modifies a method from its superclass, or method overloading, where methods share the same name but differ in parameters.\n",
        "\n",
        "**Composition:** While not always highlighted as a core concept, composition involves constructing more complex objects by combining simpler ones. This results in a \"has-a\" relationship between objects, allowing for greater flexibility and dynamic interactions within a system.\n",
        "\n",
        "These principles collectively help in organizing code in a more modular, maintainable, and scalable way, improving overall software development efficiency.\n"
      ],
      "metadata": {
        "id": "5sPYgVKv-rN0"
      }
    },
    {
      "cell_type": "markdown",
      "source": [
        "#2. Write a Python class for a `Car` with attributes for `make`, `model`, and `year`. Include a method to display the car's information\n",
        "\n",
        "#Answer:\n",
        "\n",
        "A basic Python class for an car that has the following attributes: maker, model, and year; it also has a function to show the information about the car:"
      ],
      "metadata": {
        "id": "-ZEHR-SgAGni"
      }
    },
    {
      "cell_type": "code",
      "source": [
        "class Car:\n",
        "    def __init__(self, make, model, year):\n",
        "        self.make = make\n",
        "        self.model = model\n",
        "        self.year = year\n",
        "\n",
        "    def show_details(self):\n",
        "        print(f\"Details: {self.year} {self.make} {self.model}\")\n",
        "\n",
        "# Example usage:\n",
        "my_vehicle = Car(\"BMW\", \"Q7\", 2024)\n",
        "my_vehicle.show_details()\n"
      ],
      "metadata": {
        "colab": {
          "base_uri": "https://localhost:8080/"
        },
        "id": "0yLLPNAFARuo",
        "outputId": "2bbf125c-087d-4390-9ade-ce009199a572"
      },
      "execution_count": null,
      "outputs": [
        {
          "output_type": "stream",
          "name": "stdout",
          "text": [
            "Details: 2024 BMW Q7\n"
          ]
        }
      ]
    },
    {
      "cell_type": "code",
      "source": [],
      "metadata": {
        "id": "ztDvx3-uASY1"
      },
      "execution_count": null,
      "outputs": []
    },
    {
      "cell_type": "markdown",
      "source": [
        "The output for this example would be:\n",
        "Details: 2024 BMW Q7"
      ],
      "metadata": {
        "id": "RMZn851AA11S"
      }
    },
    {
      "cell_type": "markdown",
      "source": [
        "#3. Explain the difference between instance methods and class methods. Provide an example of each.\n",
        "\n",
        "#Answer:\n",
        "\n",
        "In Python, instance methods and class methods are types of methods associated with a class, but they differ in terms of what they operate on and how they are called.\n",
        "\n",
        "**1. Instance Methods**\n",
        "\n",
        "What they are:\n",
        "These methods are tied to an individual instance of a class. They can access and modify data specific to that instance (i.e., instance attributes) and are invoked on the object itself.\n",
        "\n",
        "How they're defined:\n",
        "They always take self as the first parameter, which represents the instance calling the method.\n",
        "\n",
        "When to use: When you need to work with or change data that belongs to a specific object (instance) of the class.\n",
        "\n",
        "\n",
        "Example of an Instance Method:"
      ],
      "metadata": {
        "id": "CQbVe76iqOrv"
      }
    },
    {
      "cell_type": "code",
      "source": [
        "class Car:\n",
        "    def __init__(self, make, model):\n",
        "        self.make = make  # Instance-specific attribute\n",
        "        self.model = model  # Instance-specific attribute\n",
        "\n",
        "    def get_info(self):  # Instance method\n",
        "        return f\"This car is a {self.make} {self.model}\"\n",
        "\n",
        "# Creating an instance of the Car class\n",
        "my_car = Car(\"BMW\", \"Q7\")\n",
        "print(my_car.get_info())  # Outputs: This car is a BMW Q7\n"
      ],
      "metadata": {
        "colab": {
          "base_uri": "https://localhost:8080/"
        },
        "id": "KIYaygagqg54",
        "outputId": "414e2e4a-6ea4-4fc2-f173-c1ba8da64661"
      },
      "execution_count": null,
      "outputs": [
        {
          "output_type": "stream",
          "name": "stdout",
          "text": [
            "This car is a BMW Q7\n"
          ]
        }
      ]
    },
    {
      "cell_type": "markdown",
      "source": [
        "Here, get_info() is an instance method because it uses self to refer to the particular instance’s attributes (like make and model).\n"
      ],
      "metadata": {
        "id": "Gf3WYrIyraj8"
      }
    },
    {
      "cell_type": "markdown",
      "source": [
        "**2. Class Methods**\n",
        "\n",
        "\n",
        "What they are:\n",
        "\n",
        "These methods are linked to the class rather than any specific instance of the class. They work with class-level data and can modify class attributes, which are shared by all instances.\n",
        "\n",
        "How they're defined:\n",
        "\n",
        "They take cls as the first parameter, which refers to the class itself.\n",
        "\n",
        "When to use:\n",
        "\n",
        "Use them when you need to operate on or access class-level attributes.\n",
        "\n",
        "Decorator:\n",
        "\n",
        "Class methods are marked with the @classmethod decorator.\n",
        "\n",
        "\n",
        "Example of a Class Method:"
      ],
      "metadata": {
        "id": "PUqedYhMrt0C"
      }
    },
    {
      "cell_type": "code",
      "source": [
        "class Car:\n",
        "    num_wheels = 4  # Class-level attribute\n",
        "\n",
        "    @classmethod\n",
        "    def get_wheel_count(cls):  # Class method\n",
        "        return f\"All cars have {cls.num_wheels} wheels\"\n",
        "\n",
        "# Calling the class method\n",
        "print(Car.get_wheel_count())  # Outputs: All cars have 4 wheels"
      ],
      "metadata": {
        "colab": {
          "base_uri": "https://localhost:8080/"
        },
        "id": "4MMxmnCXr9xI",
        "outputId": "e5745417-027d-497d-deb0-d62bb3727c85"
      },
      "execution_count": null,
      "outputs": [
        {
          "output_type": "stream",
          "name": "stdout",
          "text": [
            "All cars have 4 wheels\n"
          ]
        }
      ]
    },
    {
      "cell_type": "markdown",
      "source": [
        "In this example, get_wheel_count() is a class method because it uses cls to access the class-level attribute num_wheels and does not require an instance to be called.\n",
        "\n"
      ],
      "metadata": {
        "id": "ELy_7aT7sHkp"
      }
    },
    {
      "cell_type": "markdown",
      "source": [
        "**Main Differences:**\n",
        "\n",
        "Instance methods: Operate on data specific to an object and require an instance of the class.\n",
        "\n",
        "\n",
        "Class methods: Operate on class-level data and don’t need an instance to be invoked. Instead, they use the class itself (cls).\n",
        "\n",
        "\n",
        "This distinction helps determine whether methods should deal with individual object data or broader class-level data.\n"
      ],
      "metadata": {
        "id": "6AHS_CvrsMko"
      }
    },
    {
      "cell_type": "markdown",
      "source": [
        "#Question 4. How does Python implement method overloading? Give an example.\n",
        "\n",
        "#Answer:\n",
        "\n",
        "In Python, method overloading (as seen in languages like Java or C++) is not directly supported. Python does not allow defining multiple methods with the same name but different parameter signatures. However, you can mimic this behavior by using techniques such as variable-length arguments and then checking the arguments inside the method.\n",
        "\n",
        "\n",
        "Python may simulate method overloading by verifying the quantity and type of arguments given. Here's an example:"
      ],
      "metadata": {
        "id": "pQRO2j0VslJI"
      }
    },
    {
      "cell_type": "code",
      "source": [
        "class Calculator:\n",
        "    def add(self, *numbers):\n",
        "        if len(numbers) == 2:\n",
        "            return numbers[0] + numbers[1]\n",
        "        elif len(numbers) == 3:\n",
        "            return numbers[0] + numbers[1] + numbers[2]\n",
        "        else:\n",
        "            return \"Unsupported number of arguments\"\n",
        "\n",
        "# Example usage\n",
        "calc = Calculator()\n",
        "\n",
        "print(calc.add(12, 24))           # Output: 36\n",
        "print(calc.add(15, 12, 18))        # Output: 45\n",
        "print(calc.add(20))               # Output: Unsupported number of arguments\n"
      ],
      "metadata": {
        "colab": {
          "base_uri": "https://localhost:8080/"
        },
        "id": "XwiQkmUStqBx",
        "outputId": "651feb87-6f82-4c75-927d-ce6fb5fcc9db"
      },
      "execution_count": null,
      "outputs": [
        {
          "output_type": "stream",
          "name": "stdout",
          "text": [
            "36\n",
            "45\n",
            "Unsupported number of arguments\n"
          ]
        }
      ]
    },
    {
      "cell_type": "code",
      "source": [],
      "metadata": {
        "id": "p_4sEpOjtqpn"
      },
      "execution_count": null,
      "outputs": []
    },
    {
      "cell_type": "markdown",
      "source": [
        "**Explanation:**\n",
        "\n",
        "The *numbers argument allows the method to accept any number of arguments.\n",
        "\n",
        "The method determines the number of provided arguments and then applies logic based on that, enabling it to simulate method overloading.\n",
        "\n",
        "This approach allows the method to handle different numbers of arguments while maintaining a single method name."
      ],
      "metadata": {
        "id": "ENavZiDouKI3"
      }
    },
    {
      "cell_type": "markdown",
      "source": [
        "#Question 5. What are the three types of access modifiers in Python? How are they denoted?\n",
        "\n",
        "#Answer:\n",
        "\n",
        "In Python, access modifiers are used to control the visibility of attributes and methods in classes. There are three main types, each with its own denotation:\n",
        "\n",
        "**1.Public:**\n",
        "\n",
        "Denotation:\n",
        "No leading underscores.\n",
        "\n",
        "Description:\n",
        "\n",
        "Public attributes and methods can be accessed from anywhere, both inside and outside the class. By default, all class members are public unless specified otherwise.\n",
        "\n"
      ],
      "metadata": {
        "id": "Dfl8kyE2uhIP"
      }
    },
    {
      "cell_type": "code",
      "source": [
        "class MyClass:\n",
        "    def __init__(self):\n",
        "        self.public_attribute = \"Accessible everywhere\"\n",
        "\n",
        "    def public_method(self):\n",
        "        return \"This is a public method\"\n"
      ],
      "metadata": {
        "id": "jS1ft21BvW50"
      },
      "execution_count": null,
      "outputs": []
    },
    {
      "cell_type": "code",
      "source": [],
      "metadata": {
        "id": "uHqXfYZLu3hd"
      },
      "execution_count": null,
      "outputs": []
    },
    {
      "cell_type": "markdown",
      "source": [
        "**2.Protected:**\n",
        "\n",
        "Denotation:\n",
        "A single leading underscore (_).\n",
        "\n",
        "Description:\n",
        "\n",
        "Attributes and methods marked with a single underscore are considered protected. They are intended for use within the class and its subclasses but can still be accessed from outside the class, though this is generally discouraged.\n",
        "\n"
      ],
      "metadata": {
        "id": "oE6hONYYvLNT"
      }
    },
    {
      "cell_type": "code",
      "source": [
        "class MyClass:\n",
        "    def __init__(self):\n",
        "        self._protected_attribute = \"Intended for internal use\"\n",
        "\n",
        "    def _protected_method(self):\n",
        "        return \"This is a protected method\""
      ],
      "metadata": {
        "id": "CAV-BTdbvgT9"
      },
      "execution_count": null,
      "outputs": []
    },
    {
      "cell_type": "markdown",
      "source": [
        "**3. Private:**\n",
        "\n",
        "Denotation:\n",
        "A double leading underscore (__).\n",
        "\n",
        "Description:\n",
        "\n",
        "Attributes and methods with double underscores are private. They are not accessible from outside the class due to name mangling, which alters the name to prevent direct access."
      ],
      "metadata": {
        "id": "sqSDiomyv0FG"
      }
    },
    {
      "cell_type": "code",
      "source": [
        "class MyClass:\n",
        "    def __init__(self):\n",
        "        self.__private_attribute = \"Restricted access\"\n",
        "\n",
        "    def __private_method(self):\n",
        "        return \"This is a private method\""
      ],
      "metadata": {
        "id": "C-ln985Wv25s"
      },
      "execution_count": null,
      "outputs": []
    },
    {
      "cell_type": "markdown",
      "source": [
        "**Summary:**\n",
        "\n",
        "Public:\n",
        "\n",
        "No underscore (accessible from anywhere).\n",
        "\n",
        "Protected:\n",
        "\n",
        "Single underscore (_) (accessible within the class and its subclasses).\n",
        "\n",
        "Private:\n",
        "\n",
        "Double underscore (__) (accessible only within the class, with name mangling applied)."
      ],
      "metadata": {
        "id": "bcrFZukrwEfg"
      }
    },
    {
      "cell_type": "markdown",
      "source": [
        "#Question 6. Describe the five types of inheritance in Python. Provide a simple example of multiple inheritance.\n",
        "\n",
        "#Answer:\n",
        "\n",
        "Inheritance in Python allows you to create new classes based on existing ones, enabling code reuse and the establishment of a class hierarchy. Here are the five main types of inheritance:\n",
        "\n",
        "\n",
        "**1. Single Inheritance**\n",
        "\n",
        "In single inheritance, a subclass derives from only one parent class. This is the most straightforward form of inheritance."
      ],
      "metadata": {
        "id": "NCNUzik5wQ6Z"
      }
    },
    {
      "cell_type": "code",
      "source": [
        "#Example:\n",
        "\n",
        "class Parent:\n",
        "    def display(self):\n",
        "        print(\"This is the Parent class.\")\n",
        "\n",
        "class Child(Parent):\n",
        "    def show(self):\n",
        "        print(\"This is the Child class.\")\n",
        "\n",
        "# Usage\n",
        "child_instance = Child()\n",
        "child_instance.display()  # Method from Parent\n",
        "child_instance.show()     # Method from Child"
      ],
      "metadata": {
        "colab": {
          "base_uri": "https://localhost:8080/"
        },
        "id": "FFqqiLRvw-qt",
        "outputId": "6a4a3791-88c7-4b03-fcb0-e00028ea3243"
      },
      "execution_count": null,
      "outputs": [
        {
          "output_type": "stream",
          "name": "stdout",
          "text": [
            "This is the Parent class.\n",
            "This is the Child class.\n"
          ]
        }
      ]
    },
    {
      "cell_type": "markdown",
      "source": [
        "**2. Multiple Inheritance**\n",
        "\n",
        "Multiple inheritance allows a subclass to inherit from more than one parent class, gaining access to attributes and methods from multiple sources."
      ],
      "metadata": {
        "id": "JxHdNOMAxGHT"
      }
    },
    {
      "cell_type": "code",
      "source": [
        "#Example:\n",
        "\n",
        "class Father:\n",
        "    def skills(self):\n",
        "        print(\"Father's skills: Driving, Carpentry\")\n",
        "\n",
        "class Mother:\n",
        "    def skills(self):\n",
        "        print(\"Mother's skills: Cooking, Sewing\")\n",
        "\n",
        "class Child(Father, Mother):\n",
        "    def show_skills(self):\n",
        "        print(\"Child's skills:\")\n",
        "        Father.skills(self)\n",
        "        Mother.skills(self)\n",
        "\n",
        "# Usage\n",
        "child_instance = Child()\n",
        "child_instance.show_skills()  # Accessing methods from both parents"
      ],
      "metadata": {
        "colab": {
          "base_uri": "https://localhost:8080/"
        },
        "id": "uz_w9ZRoxQB_",
        "outputId": "aeedc3e6-0602-4497-b282-de99011f6aa0"
      },
      "execution_count": null,
      "outputs": [
        {
          "output_type": "stream",
          "name": "stdout",
          "text": [
            "Child's skills:\n",
            "Father's skills: Driving, Carpentry\n",
            "Mother's skills: Cooking, Sewing\n"
          ]
        }
      ]
    },
    {
      "cell_type": "markdown",
      "source": [
        "**3. Multilevel Inheritance**\n",
        "\n",
        "In multilevel inheritance, a class is derived from another derived class, creating a chain of inheritance.\n"
      ],
      "metadata": {
        "id": "fC_UakrMxok-"
      }
    },
    {
      "cell_type": "code",
      "source": [
        "#Example:\n",
        "\n",
        "class Grandparent:\n",
        "    def display(self):\n",
        "        print(\"This is the Grandparent class.\")\n",
        "\n",
        "class Parent(Grandparent):\n",
        "    def display(self):\n",
        "        print(\"This is the Parent class.\")\n",
        "\n",
        "class Child(Parent):\n",
        "    def display(self):\n",
        "        print(\"This is the Child class.\")\n",
        "\n",
        "# Usage\n",
        "child_instance = Child()\n",
        "child_instance.display()  # Displays: This is the Child class."
      ],
      "metadata": {
        "colab": {
          "base_uri": "https://localhost:8080/"
        },
        "id": "JCl4wvDKxvj2",
        "outputId": "28699a56-165e-4e32-ecd7-05ccecd6464a"
      },
      "execution_count": null,
      "outputs": [
        {
          "output_type": "stream",
          "name": "stdout",
          "text": [
            "This is the Child class.\n"
          ]
        }
      ]
    },
    {
      "cell_type": "markdown",
      "source": [
        "**4. Hierarchical Inheritance**\n",
        "\n",
        "Hierarchical inheritance occurs when multiple subclasses inherit from a single base class. This structure allows shared functionality among different derived classes."
      ],
      "metadata": {
        "id": "yrFcGn11yDSg"
      }
    },
    {
      "cell_type": "code",
      "source": [
        "#Example:\n",
        "\n",
        "class Animal:\n",
        "    def speak(self):\n",
        "        print(\"Animal speaks\")\n",
        "\n",
        "class Dog(Animal):\n",
        "    def bark(self):\n",
        "        print(\"Dog barks\")\n",
        "\n",
        "class Cat(Animal):\n",
        "    def meow(self):\n",
        "        print(\"Cat meows\")\n",
        "\n",
        "# Usage\n",
        "dog_instance = Dog()\n",
        "cat_instance = Cat()\n",
        "dog_instance.speak()  # Method from Animal\n",
        "cat_instance.speak()  # Method from Animal"
      ],
      "metadata": {
        "colab": {
          "base_uri": "https://localhost:8080/"
        },
        "id": "1BayEtZJyLn8",
        "outputId": "9a6d5193-7b15-4a92-b9b1-06331af95603"
      },
      "execution_count": null,
      "outputs": [
        {
          "output_type": "stream",
          "name": "stdout",
          "text": [
            "Animal speaks\n",
            "Animal speaks\n"
          ]
        }
      ]
    },
    {
      "cell_type": "markdown",
      "source": [
        "**5. Hybrid Inheritance**\n",
        "\n",
        "Hybrid inheritance is a combination of two or more types of inheritance, mixing elements from single, multiple, multilevel, and hierarchical inheritance.\n",
        "\n"
      ],
      "metadata": {
        "id": "Gs0IXIaTyvLD"
      }
    },
    {
      "cell_type": "code",
      "source": [
        "#Example:\n",
        "\n",
        "class Base:\n",
        "    def base_method(self):\n",
        "        print(\"Base method\")\n",
        "\n",
        "class Derived1(Base):\n",
        "    def derived1_method(self):\n",
        "        print(\"Derived1 method\")\n",
        "\n",
        "class Derived2(Base):\n",
        "    def derived2_method(self):\n",
        "        print(\"Derived2 method\")\n",
        "\n",
        "class MultiDerived(Derived1, Derived2):\n",
        "    def multi_method(self):\n",
        "        print(\"MultiDerived method\")\n",
        "\n",
        "# Usage\n",
        "obj = MultiDerived()\n",
        "obj.base_method()      # Inherited from Base\n",
        "obj.derived1_method()  # Inherited from Derived1\n",
        "obj.derived2_method()  # Inherited from Derived2\n",
        "obj.multi_method()     # MultiDerived's own method"
      ],
      "metadata": {
        "colab": {
          "base_uri": "https://localhost:8080/"
        },
        "id": "oGurSohZy3jX",
        "outputId": "20cf0f61-fdec-462b-d566-b22fc78906c2"
      },
      "execution_count": null,
      "outputs": [
        {
          "output_type": "stream",
          "name": "stdout",
          "text": [
            "Base method\n",
            "Derived1 method\n",
            "Derived2 method\n",
            "MultiDerived method\n"
          ]
        }
      ]
    },
    {
      "cell_type": "markdown",
      "source": [
        "**Summary:**\n",
        "\n",
        "**Single Inheritance: **\n",
        "Involves one base class and one derived class.\n",
        "\n",
        "**Multiple Inheritance:**\n",
        "A single derived class inherits from multiple base classes.\n",
        "\n",
        "\n",
        "**Multilevel Inheritance:**\n",
        "Involves a chain of classes where one class inherits from another derived class.\n",
        "\n",
        "**Hierarchical Inheritance:**\n",
        "Multiple derived classes stem from a single base class.\n",
        "\n",
        "**Hybrid Inheritance:**\n",
        "Combines various inheritance types to create a flexible class structure.\n",
        "\n",
        "These inheritance types facilitate better organization of code, enhancing readability and maintainability."
      ],
      "metadata": {
        "id": "AJhpNrNLzBjd"
      }
    },
    {
      "cell_type": "markdown",
      "source": [
        "#Question 7. What is the Method Resolution Order (MRO) in Python? How can you retrieve it programmatically?\n",
        "\n",
        "#Answer:\n",
        "\n",
        "The Method Resolution Order (MRO) in Python is a critical mechanism that dictates the order in which classes are searched when a method is called, particularly in situations involving multiple inheritance. The MRO ensures a consistent and predictable approach to method resolution, helping to avoid ambiguity when classes inherit from more than one parent class.\n",
        "\n",
        "\n",
        "Python employs the C3 linearization algorithm to determine the MRO, which organizes the order of class searches.\n",
        "\n",
        "How to Programmatically Retrieve the MRO\n",
        "You can access the MRO of a class using either the __mro__ attribute or the mro() method. Here’s how to use both approaches:"
      ],
      "metadata": {
        "id": "7BwEXWx8zgzI"
      }
    },
    {
      "cell_type": "code",
      "source": [
        "#1. Accessing the __mro__ Attribute:\n",
        "\n",
        "class A:\n",
        "    pass\n",
        "\n",
        "class B(A):\n",
        "    pass\n",
        "\n",
        "class C(A):\n",
        "    pass\n",
        "\n",
        "class D(B, C):\n",
        "    pass\n",
        "\n",
        "print(D.__mro__)\n",
        "\n",
        "\n",
        "#This will display the MRO for the class D, showing the sequence in which Python looks for methods."
      ],
      "metadata": {
        "colab": {
          "base_uri": "https://localhost:8080/"
        },
        "id": "4Qy_uF-1zw5H",
        "outputId": "4fcb39d2-a6a3-43e0-f1cd-9bd1780309a3"
      },
      "execution_count": null,
      "outputs": [
        {
          "output_type": "stream",
          "name": "stdout",
          "text": [
            "(<class '__main__.D'>, <class '__main__.B'>, <class '__main__.C'>, <class '__main__.A'>, <class 'object'>)\n"
          ]
        }
      ]
    },
    {
      "cell_type": "code",
      "source": [],
      "metadata": {
        "id": "B5FtHtLKxwOB"
      },
      "execution_count": null,
      "outputs": []
    },
    {
      "cell_type": "markdown",
      "source": [
        "#2. Using the mro() Method:\n",
        "\n",
        "print(D.mro())\n",
        "\n",
        "\n",
        "Both approaches will yield the same output, reflecting the order of classes in the MRO.\n",
        "\n",
        "\n",
        "**Sample Output**\n",
        "For the example above, the output will appear as follows:\n",
        "\n",
        "(<class '__main__.D'>, <class '__main__.B'>, <class '__main__.C'>, <class '__main__.A'>, <class 'object'>)\n",
        "\n",
        "\n",
        "This result indicates that when searching for a method in an instance of D, Python will first check D, followed by B, then C, and finally A, before reaching the base object class."
      ],
      "metadata": {
        "id": "GaSBkkFS0Eat"
      }
    },
    {
      "cell_type": "markdown",
      "source": [
        "\n",
        "#Question 8. Create an abstract base class `Shape` with an abstract method `area()`. Then create two subclasses`Circle` and `Rectangle` that implement the `area()` method.\n",
        "\n",
        "#Answer:\n",
        "\n",
        "Below is an example of how to create an abstract base class Shape with an abstract method area(), and then implement two subclasses Circle and Rectangle that provide their own implementations of the area() method.\n"
      ],
      "metadata": {
        "id": "2QMjSusX01qS"
      }
    },
    {
      "cell_type": "code",
      "source": [
        "from abc import ABC, abstractmethod\n",
        "import math\n",
        "\n",
        "# Abstract Base Class\n",
        "class Shape(ABC):\n",
        "    @abstractmethod\n",
        "    def area(self):\n",
        "        #Calculate the area of the shape\n",
        "        pass"
      ],
      "metadata": {
        "id": "Ur-agJfg1Ah-"
      },
      "execution_count": null,
      "outputs": []
    },
    {
      "cell_type": "code",
      "source": [
        "# Circle Subclass\n",
        "class Circle(Shape):\n",
        "    def __init__(self, radius):\n",
        "        self.radius = radius\n",
        "\n",
        "    def area(self):\n",
        "         #Return the area of the circle\n",
        "        return math.pi * self.radius ** 2"
      ],
      "metadata": {
        "id": "vEdcOnpN1BbV"
      },
      "execution_count": null,
      "outputs": []
    },
    {
      "cell_type": "code",
      "source": [
        "# Rectangle Subclass\n",
        "class Rectangle(Shape):\n",
        "    def __init__(self, width, height):\n",
        "        self.width = width\n",
        "        self.height = height\n",
        "\n",
        "    def area(self):\n",
        "        #Return the area of the rectangle\n",
        "        return self.width * self.height\n",
        "# Example usage\n",
        "if __name__ == \"__main__\":\n",
        "    circle = Circle(5)\n",
        "    rectangle = Rectangle(4, 6)\n",
        "\n",
        "    print(f\"Circle Area: {circle.area():.2f}\")\n",
        "    print(f\"Rectangle Area: {rectangle.area():.2f}\")"
      ],
      "metadata": {
        "colab": {
          "base_uri": "https://localhost:8080/"
        },
        "id": "TSpX32ud4YFc",
        "outputId": "a5dabe58-66f8-45cb-c35d-b2769cd0b004"
      },
      "execution_count": null,
      "outputs": [
        {
          "output_type": "stream",
          "name": "stdout",
          "text": [
            "Circle Area: 78.54\n",
            "Rectangle Area: 24.00\n"
          ]
        }
      ]
    },
    {
      "cell_type": "markdown",
      "source": [
        "**Explanation:**\n",
        "\n",
        "**1.Shape Abstract Base Class:**\n",
        "\n",
        "Inherits from ABC and defines an abstract method area() that must be implemented by subclasses.\n",
        "\n",
        "**2.Circle Class:**\n",
        "\n",
        "Represents a circle, initialized with a radius, and implements the area() method to compute the area using the formula\n",
        "𝜋𝑟2\n",
        "\n",
        "\n",
        "**3.Rectangle Class:**\n",
        "\n",
        "Represents a rectangle, initialized with width and height, and implements the area() method to calculate the area as\n",
        "width×height\n",
        "\n",
        "\n",
        "**4.Main Block:**\n",
        "\n",
        "Demonstrates how to create instances of Circle and Rectangle and prints their respective areas.\n"
      ],
      "metadata": {
        "id": "_OAlMPCb5C4c"
      }
    },
    {
      "cell_type": "markdown",
      "source": [
        "\n",
        "#Question 9. Demonstrate polymorphism by creating a function that can work with different shape objects to calculate and print their areas.\n",
        "\n",
        "#Answer:\n",
        "\n",
        "Through a common interface, polymorphism enables various objects to be considered as instances of the same class. We can construct a basic class named Shape with an area calculation function in the context of shapes. Then, by deriving from the Shape class and implementing their own area calculation, we may create distinct shape classes (such as Circle, Rectangle, and Triangle)."
      ],
      "metadata": {
        "id": "Hq37Wa7Q56sK"
      }
    },
    {
      "cell_type": "code",
      "source": [
        "import math\n",
        "\n",
        "# Base class for shapes\n",
        "class Shape:\n",
        "    def area(self):\n",
        "        raise NotImplementedError(\"This method should be overridden by subclasses.\")\n",
        "\n",
        "# Class representing a circle\n",
        "class Circle(Shape):\n",
        "    def __init__(self, radius):\n",
        "        self.radius = radius\n",
        "\n",
        "    def area(self):\n",
        "        return math.pi * (self.radius ** 2)\n",
        "\n",
        "# Class representing a rectangle\n",
        "class Rectangle(Shape):\n",
        "    def __init__(self, width, height):\n",
        "        self.width = width\n",
        "        self.height = height\n",
        "\n",
        "    def area(self):\n",
        "        return self.width * self.height\n",
        "\n",
        "# Class representing a triangle\n",
        "class Triangle(Shape):\n",
        "    def __init__(self, base, height):\n",
        "        self.base = base\n",
        "        self.height = height\n",
        "\n",
        "    def area(self):\n",
        "        return 0.5 * self.base * self.height\n",
        "\n",
        "# Function to calculate and display the area of a shape\n",
        "def display_area(shape):\n",
        "    print(f\"The area of the {shape.__class__.__name__} is: {shape.area()}\")\n",
        "\n",
        "# Creating instances of various shapes\n",
        "shapes = [\n",
        "    Circle(radius=4),\n",
        "    Rectangle(width=4, height=5),\n",
        "    Triangle(base=5, height=6)\n",
        "]\n",
        "\n",
        "# Looping through shapes to print their areas\n",
        "for shape in shapes:\n",
        "    display_area(shape)\n"
      ],
      "metadata": {
        "colab": {
          "base_uri": "https://localhost:8080/"
        },
        "id": "h2_OJdo-6HCf",
        "outputId": "006ae77d-f0b1-4796-b5c0-736638b430f8"
      },
      "execution_count": null,
      "outputs": [
        {
          "output_type": "stream",
          "name": "stdout",
          "text": [
            "The area of the Circle is: 50.26548245743669\n",
            "The area of the Rectangle is: 20\n",
            "The area of the Triangle is: 15.0\n"
          ]
        }
      ]
    },
    {
      "cell_type": "markdown",
      "source": [
        "**Breakdown:**\n",
        "\n",
        "\n",
        "**Base Class (Shape):**This serves as a template for all shape types, requiring derived classes to implement the area method.\n",
        "\n",
        "**Derived Classes:**Each shape class (Circle, Rectangle, Triangle) implements its specific method to calculate the area based on its geometric properties.\n",
        "\n",
        "**Function (display_area):**\n",
        "This function receives a shape object and prints its area. It can accept any object that is derived from the Shape class.\n",
        "\n",
        "\n",
        "**Output:**\n",
        "When executed, the code will output:\n",
        "\n",
        "The area of the Circle is: 50.26548245743669\n",
        "The area of the Rectangle is: 20\n",
        "The area of the Triangle is: 15.0\n",
        "\n",
        "\n",
        "This example clearly illustrates polymorphism by allowing the display_area function to handle different shapes without needing to know their exact types. Each shape object correctly computes its area using the appropriate method.\n"
      ],
      "metadata": {
        "id": "dA2ssGLb6317"
      }
    },
    {
      "cell_type": "markdown",
      "source": [
        "#Question 10.  Implement encapsulation in a `BankAccount` class with private attributes for `balance` and `account_number`. Include methods for deposit, withdrawal, and balance inquiry\n",
        "\n",
        "#Answer:\n",
        "\n",
        "An easy Python implementation of the BankAccount class that shows encapsulation by utilising private attributes for account_number and balance. Techniques for making deposits, withdrawals, and balance checks are covered throughout the course."
      ],
      "metadata": {
        "id": "eR6np1GA72Mn"
      }
    },
    {
      "cell_type": "code",
      "source": [
        "class BankAccount:\n",
        "    def __init__(self, account_number, initial_balance=0):\n",
        "        self.__account_number = account_number  # Private attribute for account number\n",
        "        self.__balance = initial_balance  # Private attribute for balance\n",
        "\n",
        "    def deposit(self, amount):\n",
        "        \"\"\"Add a specified amount to the account balance.\"\"\"\n",
        "        if amount > 0:\n",
        "            self.__balance += amount\n",
        "            print(f\"Successfully deposited: ${amount:.2f}. Updated balance: ${self.__balance:.2f}.\")\n",
        "        else:\n",
        "            print(\"The deposit amount must be greater than zero.\")\n",
        "\n",
        "    def withdraw(self, amount):\n",
        "        \"\"\"Withdraw a specified amount from the account if sufficient funds are available.\"\"\"\n",
        "        if 0 < amount <= self.__balance:\n",
        "            self.__balance -= amount\n",
        "            print(f\"Successfully withdrew: ${amount:.2f}. Updated balance: ${self.__balance:.2f}.\")\n",
        "        elif amount > self.__balance:\n",
        "            print(\"Withdrawal amount exceeds current balance.\")\n",
        "        else:\n",
        "            print(\"The withdrawal amount must be greater than zero.\")\n",
        "\n",
        "    def check_balance(self):\n",
        "        \"\"\"Retrieve the current balance of the account.\"\"\"\n",
        "        return self.__balance\n",
        "\n",
        "    def get_account_number(self):\n",
        "        \"\"\"Get the account number associated with the account.\"\"\"\n",
        "        return self.__account_number\n",
        "\n",
        "# Example usage:\n",
        "if __name__ == \"__main__\":\n",
        "    account = BankAccount(\"123456\", 2000)\n",
        "    account.deposit(400)\n",
        "    account.withdraw(300)\n",
        "    print(f\"Account Number: {account.get_account_number()}\")\n",
        "    print(f\"Current Balance: ${account.check_balance():.2f}\")\n"
      ],
      "metadata": {
        "colab": {
          "base_uri": "https://localhost:8080/"
        },
        "id": "aFmdWxn68B_8",
        "outputId": "0889359b-e66d-4dfa-f46e-a9c55b3d3c0a"
      },
      "execution_count": null,
      "outputs": [
        {
          "output_type": "stream",
          "name": "stdout",
          "text": [
            "Successfully deposited: $400.00. Updated balance: $2400.00.\n",
            "Successfully withdrew: $300.00. Updated balance: $2100.00.\n",
            "Account Number: 123456\n",
            "Current Balance: $2100.00\n"
          ]
        }
      ]
    },
    {
      "cell_type": "markdown",
      "source": [
        "\n",
        "#Question 11. Write a class that overrides the `__str__` and `__add__` magic methods. What will these methods allow you to do?\n",
        "\n",
        "#Answer:\n",
        "\n",
        "**Custom Class Example:**\n",
        "Let’s create a class named Vector that represents a mathematical vector. We will override the __str__ method for a more meaningful string representation and the __add__ method to specify how two vector instances can be added together."
      ],
      "metadata": {
        "id": "rcOr0C1481TR"
      }
    },
    {
      "cell_type": "code",
      "source": [
        "class Vector:\n",
        "    def __init__(self, x, y):\n",
        "        self.x = x\n",
        "        self.y = y\n",
        "\n",
        "    def __str__(self):\n",
        "        # This method is invoked by print() or str() for string representation\n",
        "        return f\"Vector({self.x}, {self.y})\"\n",
        "\n",
        "    def __add__(self, other):\n",
        "        # This method defines how the + operator works for Vector instances\n",
        "        if isinstance(other, Vector):\n",
        "            return Vector(self.x + other.x, self.y + other.y)\n",
        "        return NotImplemented  # Return NotImplemented if 'other' is not a Vector\n",
        "\n",
        "# Example usage\n",
        "v1 = Vector(4, 5)\n",
        "v2 = Vector(6, 7)\n",
        "\n",
        "print(v1)  # Output: Vector(4, 5)\n",
        "print(v2)  # Output: Vector(6, 7)\n",
        "\n",
        "v3 = v1 + v2\n",
        "print(v3)  # Output: Vector(10, 12)\n"
      ],
      "metadata": {
        "colab": {
          "base_uri": "https://localhost:8080/"
        },
        "id": "rUHGy5UV9Doz",
        "outputId": "124b46fa-87fb-4381-fb20-564f297b6f86"
      },
      "execution_count": null,
      "outputs": [
        {
          "output_type": "stream",
          "name": "stdout",
          "text": [
            "Vector(4, 5)\n",
            "Vector(6, 7)\n",
            "Vector(10, 12)\n"
          ]
        }
      ]
    },
    {
      "cell_type": "markdown",
      "source": [
        "**Explanation of the Methods**\n",
        "\n",
        "**1. __str__ Method:**\n",
        "\n",
        "This method is automatically called when an object of the class is printed or when the str() function is applied to it.\n",
        "It allows you to define how the object is represented as a string, making the output more informative and easier to read.\n",
        "In our example, invoking print(v1) yields Vector(2, 3) instead of a default representation that is less descriptive, like <__main__.Vector object at 0x...>.\n",
        "\n",
        "\n",
        "\n",
        "**2. __add__ Method:**\n",
        "\n",
        "This method specifies how the + operator behaves when applied to instances of the class.\n",
        "In this case, adding two Vector instances combines their respective x and y coordinates, resulting in a new Vector instance.\n",
        "If you try to add a Vector to an incompatible type, the method returns NotImplemented, indicating that the operation is not supported.\n",
        "\n",
        "\n",
        "\n",
        "**Benefits of Overriding These Methods:**\n",
        "\n",
        "**Improved Readability:**\n",
        "Customizing the __str__ method enhances the clarity of your objects when printed.\n",
        "\n",
        "**Defined Operations:**\n",
        "By overriding __add__, you can specify how instances interact with arithmetic operations, making them more intuitive to use.\n",
        "\n",
        "**Seamless Integration:**\n",
        "These custom implementations align the class with Python's built-in features, enhancing code usability and maintainability.\n",
        "\n",
        "This pattern can be applied to other magic methods as well, allowing for further customization of class behavior."
      ],
      "metadata": {
        "id": "YXxSvJAQ9aJu"
      }
    },
    {
      "cell_type": "markdown",
      "source": [
        "#Question 12. Create a decorator that measures and prints the execution time of a function.\n",
        "\n",
        "#Answer:\n",
        "\n",
        "With Python's time module, you can write a decorator that calculates and outputs a function's execution time. Here's how to do it simply:"
      ],
      "metadata": {
        "id": "WiAXMXNL-XaS"
      }
    },
    {
      "cell_type": "code",
      "source": [
        "import time\n",
        "\n",
        "def measure_time(func):\n",
        "    \"\"\"Decorator to track and display the execution duration of a function.\"\"\"\n",
        "    def wrapper(*args, **kwargs):\n",
        "        start = time.time()  # Record the start time\n",
        "        result = func(*args, **kwargs)  # Execute the original function\n",
        "        end = time.time()  # Record the end time\n",
        "        duration = end - start  # Calculate the total time taken\n",
        "        print(f\"Execution time for '{func.__name__}': {duration:.6f} seconds\")\n",
        "        return result  # Return the result of the function call\n",
        "    return wrapper\n",
        "\n",
        "# Sample function to demonstrate the decorator\n",
        "@measure_time\n",
        "def sample_function(n):\n",
        "    \"\"\"Function that performs a summation up to n.\"\"\"\n",
        "    total = sum(range(n))\n",
        "    return total\n",
        "\n",
        "# Example of calling the sample function\n",
        "sample_function(1000000)\n"
      ],
      "metadata": {
        "colab": {
          "base_uri": "https://localhost:8080/"
        },
        "id": "Yn-WaRie-e0-",
        "outputId": "d2555150-c2f3-48ca-881f-1929911f45d1"
      },
      "execution_count": null,
      "outputs": [
        {
          "output_type": "stream",
          "name": "stdout",
          "text": [
            "Execution time for 'sample_function': 0.018909 seconds\n"
          ]
        },
        {
          "output_type": "execute_result",
          "data": {
            "text/plain": [
              "499999500000"
            ]
          },
          "metadata": {},
          "execution_count": 28
        }
      ]
    },
    {
      "cell_type": "markdown",
      "source": [
        "**Breakdown:**\n",
        "\n",
        "**Decorator (measure_time)**:\n",
        "This function takes another function as an argument and creates a nested wrapper function. The wrapper manages the execution and timing.\n",
        "\n",
        "**Timing Logic**:\n",
        "It captures the current time before and after the function call using time.time(), then calculates the elapsed time.\n",
        "\n",
        "**Output**:\n",
        "After the function completes, it prints the execution time, formatted to six decimal places.\n",
        "\n",
        "**How to Use**:\n",
        "You can apply the @measure_time decorator to any function whose execution time you wish to measure. In the provided example, sample_function will display how long it takes to execute when called.\n"
      ],
      "metadata": {
        "id": "L-HdzSdx-0gu"
      }
    },
    {
      "cell_type": "markdown",
      "source": [
        "\n",
        "#Question 13. Explain the concept of the Diamond Problem in multiple inheritance. How does Python resolve it?\n",
        "\n",
        "#Answer:\n",
        "\n",
        "The Diamond Problem is a challenge encountered in object-oriented programming, particularly with multiple inheritance. It occurs when a class inherits from two other classes that both derive from a shared superclass, creating a diamond-shaped inheritance structure. Here’s a diagram to illustrate this concept:\n",
        "\n",
        "        A\n",
        "       / \\\n",
        "      B   C\n",
        "       \\ /\n",
        "        D\n",
        "\n",
        "**In this diagram:**\n",
        "\n",
        "Class A is the top-level superclass.\n",
        "Classes B and C both inherit from A.\n",
        "Class D inherits from both B and C.\n",
        "\n",
        "**The Challenge**\n",
        "The problem arises when a method is called on class D. If both B and C override a method from A, it creates ambiguity about which method to execute. This can result in several issues:\n",
        "\n",
        "**Ambiguity:**\n",
        "It is unclear whether to invoke the method from B or C.\n",
        "\n",
        "**Code Duplication:**\n",
        "If both B and C provide the same method implementation, this can lead to redundancy in the codebase.\n",
        "\n",
        "\n",
        "**Python's Approach: Method Resolution Order (MRO)**\n",
        "\n",
        "Python addresses the Diamond Problem through a mechanism known as Method Resolution Order (MRO), which specifies the order in which base classes are searched for methods. The MRO is determined using an algorithm called C3 linearization.\n",
        "\n",
        "**Here’s how Python manages this situation:**\n",
        "\n",
        "**1. Inheritance Sequence:**\n",
        "For single inheritance, Python follows a straightforward order.\n",
        "\n",
        "**2. MRO Determination:** When dealing with multiple inheritance, Python calculates the MRO for a class using the C3 linearization algorithm. You can access the MRO of a class using the __mro__ attribute or the mro() method."
      ],
      "metadata": {
        "id": "2BJJaR5S_Pe7"
      }
    },
    {
      "cell_type": "code",
      "source": [
        "#Example : Here’s an example to demonstrate this:\n",
        "\n",
        "class A:\n",
        "    def greet(self):\n",
        "        print(\"Hello from A\")\n",
        "\n",
        "class B(A):\n",
        "    def greet(self):\n",
        "        print(\"Hello from B\")\n",
        "\n",
        "class C(A):\n",
        "    def greet(self):\n",
        "        print(\"Hello from C\")\n",
        "\n",
        "class D(B, C):\n",
        "    pass\n",
        "\n",
        "d = D()\n",
        "d.greet()  # Output: Hello from B\n",
        "print(D.mro())\n",
        "\n",
        "# Output: [<class '__main__.D'>, <class '__main__.B'>, <class '__main__.C'>, <class '__main__.A'>, <class 'object'>]"
      ],
      "metadata": {
        "colab": {
          "base_uri": "https://localhost:8080/"
        },
        "id": "wYpg1sgOAB93",
        "outputId": "3a2da905-9ff0-464c-9306-bf1324b9bad5"
      },
      "execution_count": null,
      "outputs": [
        {
          "output_type": "stream",
          "name": "stdout",
          "text": [
            "Hello from B\n",
            "[<class '__main__.D'>, <class '__main__.B'>, <class '__main__.C'>, <class '__main__.A'>, <class 'object'>]\n"
          ]
        }
      ]
    },
    {
      "cell_type": "markdown",
      "source": [
        "**Explanation of the Example**\n",
        "\n",
        "In this example, when d.greet() is called, Python first searches in class D, then in B, where it finds the method and executes it. If the method were not found in B, Python would then check C, and finally A. The MRO for D illustrates the order in which classes are searched for method definitions, effectively resolving the ambiguity of the Diamond Problem.\n",
        "\n",
        "\n",
        "To summarize, the Diamond Problem arises from the confusion surrounding method resolution in multiple inheritance scenarios. Python effectively resolves this issue using a well-defined method resolution order (MRO), ensuring that method lookups occur in a predictable and unambiguous manner.\n"
      ],
      "metadata": {
        "id": "xfHxFwtIAXdI"
      }
    },
    {
      "cell_type": "markdown",
      "source": [
        "\n",
        "#Question 14. Write a class method that keeps track of the number of instances created from a class.\n",
        "\n",
        "#Answer:\n",
        "\n",
        "Example in Python:\n",
        "\n"
      ],
      "metadata": {
        "id": "J8UNcPHMAor5"
      }
    },
    {
      "cell_type": "code",
      "source": [
        "class Counter:\n",
        "    # Class-level variable to track the total number of instances\n",
        "    total_instances = 0\n",
        "\n",
        "    def __init__(self):\n",
        "        # Increment the total instances count whenever a new object is instantiated\n",
        "        Counter.total_instances += 1\n",
        "\n",
        "    @classmethod\n",
        "    def get_total_instances(cls):\n",
        "        \"\"\"Class method to retrieve the current count of instances.\"\"\"\n",
        "        return cls.total_instances\n",
        "\n",
        "\n",
        "# Example of how to use the class\n",
        "if __name__ == \"__main__\":\n",
        "    instance1 = Counter()\n",
        "    instance2 = Counter()\n",
        "    instance3 = Counter()\n",
        "\n",
        "    print(\"Total instances created:\", Counter.get_total_instances())\n"
      ],
      "metadata": {
        "colab": {
          "base_uri": "https://localhost:8080/"
        },
        "id": "a03wYwC8AxXS",
        "outputId": "94e1c24a-5d2b-44e8-a004-8ef6546c1746"
      },
      "execution_count": null,
      "outputs": [
        {
          "output_type": "stream",
          "name": "stdout",
          "text": [
            "Total instances created: 3\n"
          ]
        }
      ]
    },
    {
      "cell_type": "markdown",
      "source": [
        "**Explanation:**\n",
        "\n",
        "**Class Variable:**\n",
        "total_instances is defined as a class variable, making it shared among all instances of the class.\n",
        "\n",
        "**Initializer (__init__ method):**\n",
        "This method is called when a new object is created, incrementing the total_instances count.\n",
        "\n",
        "**Class Method (get_total_instances):**\n",
        "This method allows you to access the count of instances from the class itself.\n",
        "\n",
        "When executed, this code will display the total number of Counter instances created."
      ],
      "metadata": {
        "id": "m1IgmyyzBcO4"
      }
    },
    {
      "cell_type": "markdown",
      "source": [
        "\n",
        "#Question 15. Implement a static method in a class that checks if a given year is a leap year.\n",
        "\n",
        "#Answer:"
      ],
      "metadata": {
        "id": "LdBuhvulB3Jg"
      }
    },
    {
      "cell_type": "code",
      "source": [
        "#Example:\n",
        "\n",
        "class YearUtility:\n",
        "    @staticmethod\n",
        "    def check_leap_year(year):\n",
        "        \"\"\"\n",
        "        Determine if a specified year is a leap year.\n",
        "\n",
        "        The rules for a leap year are as follows:\n",
        "        - A year is a leap year if it is divisible by 4.\n",
        "        - It is not a leap year if it is divisible by 100, unless it is also divisible by 400.\n",
        "\n",
        "        Parameters:\n",
        "        year (int): The year to evaluate.\n",
        "\n",
        "        Returns:\n",
        "        bool: Returns True if the year is a leap year, otherwise False.\n",
        "        \"\"\"\n",
        "        if (year % 4 == 0 and year % 100 != 0) or (year % 400 == 0):\n",
        "            return True\n",
        "        return False\n",
        "\n",
        "# Example of how to use the class:\n",
        "year = 2024\n",
        "if YearUtility.check_leap_year(year):\n",
        "    print(f\"{year} is a leap year.\")\n",
        "else:\n",
        "    print(f\"{year} is not a leap year.\")\n"
      ],
      "metadata": {
        "colab": {
          "base_uri": "https://localhost:8080/"
        },
        "id": "ROeDuiq04xIg",
        "outputId": "2af2f687-54e1-414b-dae2-1ee21c5f401f"
      },
      "execution_count": null,
      "outputs": [
        {
          "output_type": "stream",
          "name": "stdout",
          "text": [
            "2024 is a leap year.\n"
          ]
        }
      ]
    },
    {
      "cell_type": "code",
      "source": [
        "=============================THE-END=========="
      ],
      "metadata": {
        "id": "ywIO6lRdCATU"
      },
      "execution_count": null,
      "outputs": []
    }
  ]
}